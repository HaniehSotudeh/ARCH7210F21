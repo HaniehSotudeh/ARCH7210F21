{
 "cells": [
  {
   "cell_type": "markdown",
   "id": "5221f688",
   "metadata": {},
   "source": [
    "## Assignment 04"
   ]
  },
  {
   "cell_type": "markdown",
   "id": "d4bffdc5",
   "metadata": {},
   "source": [
    "### Problem 1"
   ]
  },
  {
   "cell_type": "code",
   "execution_count": 1,
   "id": "9822b6bc",
   "metadata": {},
   "outputs": [],
   "source": [
    "# Import the json library\n",
    "import json"
   ]
  },
  {
   "cell_type": "code",
   "execution_count": 53,
   "id": "4a353f4f",
   "metadata": {
    "scrolled": false
   },
   "outputs": [
    {
     "data": {
      "text/plain": [
       "['chevrolet chevelle malibu', 8, 130]"
      ]
     },
     "execution_count": 53,
     "metadata": {},
     "output_type": "execute_result"
    }
   ],
   "source": [
    "# Read the cars.json file\n",
    "with open ('cars.json','r') as file:\n",
    "    file_data = json.load(file)\n",
    "# Create a new list to store cars with horsepower less than 180\n",
    "Cars_LessThan180=[]\n",
    "# Go over each item in the json file \n",
    "for item in file_data:\n",
    "    # Check if the Horse power isn't null and has a Horsepower less than 180\n",
    "    if isinstance(item['Horsepower'],int) and item['Horsepower'] < 180:\n",
    "        # Add the cars name, number of its cylinders, and horsepower to the new list\n",
    "        Cars_LessThan180.append([item['Name'],item['Cylinders'],item['Horsepower']])\n",
    "\n",
    "# Test new List\n",
    "Cars_LessThan180[0]"
   ]
  },
  {
   "cell_type": "markdown",
   "id": "7482c695",
   "metadata": {},
   "source": [
    "### Problem 2"
   ]
  },
  {
   "cell_type": "code",
   "execution_count": 3,
   "id": "f7e1a465",
   "metadata": {},
   "outputs": [],
   "source": [
    "# Import csv library\n",
    "import csv"
   ]
  },
  {
   "cell_type": "code",
   "execution_count": 23,
   "id": "ea59a066",
   "metadata": {},
   "outputs": [
    {
     "data": {
      "text/plain": [
       "('MSFT', 'Apr 1 2000', 28.37)"
      ]
     },
     "execution_count": 23,
     "metadata": {},
     "output_type": "execute_result"
    }
   ],
   "source": [
    "# This function returns stocks with price higher than 25$\n",
    "def StocksOver25(data):\n",
    "    # Create a new list to store filtered stocks\n",
    "    StocksList = []\n",
    "    # Read the file_Data\n",
    "    with open (data,'r') as file:\n",
    "        file_Data = list(csv.reader(file))\n",
    "        # Go over each item to check the price\n",
    "        for i in range(1,len(file_Data)):\n",
    "            # Check if the price is higer than 25\n",
    "            if float(file_Data[i][2])>25:\n",
    "                # append the symbol, dat, and price to the stocklist\n",
    "                StocksList.append((file_Data[i][0], file_Data[i][1], float(file_Data[i][2])))\n",
    "        # return the new list\n",
    "        return StocksList\n",
    "    \n",
    "# Test function\n",
    "StocksOver25('stocks.csv')[3]"
   ]
  },
  {
   "cell_type": "markdown",
   "id": "2fb4e525",
   "metadata": {},
   "source": [
    "### Problem 3"
   ]
  },
  {
   "cell_type": "markdown",
   "id": "7419690b",
   "metadata": {},
   "source": [
    "Data Presentation Link: https://prezi.com/view/TKutP5faZBgdECNVxHHl"
   ]
  }
 ],
 "metadata": {
  "kernelspec": {
   "display_name": "Python 3",
   "language": "python",
   "name": "python3"
  },
  "language_info": {
   "codemirror_mode": {
    "name": "ipython",
    "version": 3
   },
   "file_extension": ".py",
   "mimetype": "text/x-python",
   "name": "python",
   "nbconvert_exporter": "python",
   "pygments_lexer": "ipython3",
   "version": "3.8.8"
  }
 },
 "nbformat": 4,
 "nbformat_minor": 5
}
