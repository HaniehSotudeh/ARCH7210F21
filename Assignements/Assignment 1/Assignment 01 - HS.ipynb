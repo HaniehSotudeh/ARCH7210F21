{
 "cells": [
  {
   "cell_type": "markdown",
   "id": "5886d11b",
   "metadata": {},
   "source": [
    "### Assignment 01"
   ]
  },
  {
   "cell_type": "markdown",
   "id": "1b80a8ca",
   "metadata": {},
   "source": [
    "### Problem 1"
   ]
  },
  {
   "cell_type": "code",
   "execution_count": 4,
   "id": "81155325",
   "metadata": {},
   "outputs": [],
   "source": [
    "# A function to determine whether a number is odd or even\n",
    "def oddOrEven():\n",
    "    #Get the input from user\n",
    "    val = int (input(\"write the number here: \"))\n",
    "    # determining whether the number is odd or even\n",
    "    if val%2 == 0:\n",
    "        print (\"{num} is even.\".format(num = val))\n",
    "    else:\n",
    "        print (\"{num} is odd.\".format(num = val))"
   ]
  },
  {
   "cell_type": "code",
   "execution_count": 5,
   "id": "6985d54a",
   "metadata": {},
   "outputs": [
    {
     "name": "stdout",
     "output_type": "stream",
     "text": [
      "write the number here: 5\n",
      "5 is odd.\n"
     ]
    }
   ],
   "source": [
    "#Test the function\n",
    "oddOrEven()"
   ]
  },
  {
   "cell_type": "markdown",
   "id": "60cae3fc",
   "metadata": {},
   "source": [
    "### Problem 2"
   ]
  },
  {
   "cell_type": "code",
   "execution_count": 25,
   "id": "8c9f1979",
   "metadata": {},
   "outputs": [],
   "source": [
    "# A function to reverse the order of a given sentence\n",
    "def reverseSentence():\n",
    "    #Get input data from user\n",
    "    sentence = input(\"write your sentence here: \")\n",
    "    #Split the sentence\n",
    "    sentList = sentence.split()\n",
    "    #Reverse the words\n",
    "    sentList.reverse()\n",
    "    #join the words into sentence\n",
    "    newSent = \" \".join(sentList)\n",
    "    \n",
    "    print (newSent)"
   ]
  },
  {
   "cell_type": "code",
   "execution_count": 26,
   "id": "fe98488e",
   "metadata": {},
   "outputs": [
    {
     "name": "stdout",
     "output_type": "stream",
     "text": [
      "write your sentence here: This is assignment number one\n",
      "one number assignment is This\n"
     ]
    }
   ],
   "source": [
    "#Test the function\n",
    "reverseSentence()"
   ]
  },
  {
   "cell_type": "markdown",
   "id": "f2928b89",
   "metadata": {},
   "source": [
    "### Problem 3"
   ]
  },
  {
   "cell_type": "code",
   "execution_count": 69,
   "id": "7ba3108b",
   "metadata": {},
   "outputs": [],
   "source": [
    "# A function to find the maximum and minimum of a given list\n",
    "def maxMin():\n",
    "    #Get input data from user\n",
    "    numbers = (input(\"write a list of numbers here (seperat by space):\"))\n",
    "    #Get the list of numbers\n",
    "    numsList = numbers.split()\n",
    "    #Change the type of list form string to integer \n",
    "    for i in range(0, len(numsList)):\n",
    "        numsList[i] = int(numsList[i])\n",
    "    #Get the maximum and minimum of the List\n",
    "    numsMaxMin = (max(numsList), min(numsList))\n",
    "    \n",
    "    print(numsMaxMin)"
   ]
  },
  {
   "cell_type": "code",
   "execution_count": 70,
   "id": "23b99267",
   "metadata": {},
   "outputs": [
    {
     "name": "stdout",
     "output_type": "stream",
     "text": [
      "write a list of numbers here (seperat by space):2 3 56 74 83 47 54 83 954\n",
      "(954, 2)\n"
     ]
    }
   ],
   "source": [
    "#Test the function\n",
    "maxMin()"
   ]
  },
  {
   "cell_type": "markdown",
   "id": "1a7e06cb",
   "metadata": {},
   "source": [
    "### Problem 4"
   ]
  },
  {
   "cell_type": "code",
   "execution_count": 193,
   "id": "6a08cd77",
   "metadata": {},
   "outputs": [],
   "source": [
    "# A function to cull duplicate data\n",
    "def cullDuplicate():\n",
    "    #Get input data from user\n",
    "    items = (input(\"write a list of numbers here (seperat by space):\"))\n",
    "    #Get the list of items\n",
    "    itemsList = items.split()\n",
    "    #Make a new list\n",
    "    itemsNewList = []\n",
    "    # Copy not repeated items\n",
    "    for i in itemsList:\n",
    "        if i not in itemsNewList:\n",
    "            itemsNewList.append(i)\n",
    "    #List to string\n",
    "    culledList = \" \".join(itemsNewList)\n",
    "\n",
    "    print(culledList)"
   ]
  },
  {
   "cell_type": "code",
   "execution_count": 196,
   "id": "598deace",
   "metadata": {},
   "outputs": [
    {
     "name": "stdout",
     "output_type": "stream",
     "text": [
      "write a list of numbers here (seperat by space):3 5 3 7 3 8 5 9 3 9 3\n",
      "3 5 7 8 9\n"
     ]
    }
   ],
   "source": [
    "#Test the function\n",
    "cullDuplicate()"
   ]
  },
  {
   "cell_type": "markdown",
   "id": "a2831a1b",
   "metadata": {},
   "source": [
    "### Problem 5"
   ]
  },
  {
   "cell_type": "code",
   "execution_count": 76,
   "id": "7c5c35af",
   "metadata": {},
   "outputs": [],
   "source": [
    "#calculator\n",
    "class calculator:\n",
    "    '''\n",
    "    this class operates as a simple calculator\n",
    "    '''     \n",
    "    def __init__(self, num1, num2):\n",
    "        self.num1 = num1\n",
    "        self.num2 = num2\n",
    "    \n",
    "    #creat a function for addition operation\n",
    "    def addition(self):\n",
    "        add = self.num1 + self.num2\n",
    "        return add\n",
    "    \n",
    "    #creat a function for subtract operation\n",
    "    def subtraction(self):\n",
    "        sub = num1 - num2\n",
    "        return sub\n",
    "    \n",
    "    #creat a function for division operation\n",
    "    def division(self):\n",
    "        div = num1 / num2\n",
    "        return div\n",
    "    \n",
    "    #creat a function for multiplication operation\n",
    "    def multiplication(self):\n",
    "        mult = num1 * num2\n",
    "        return mult "
   ]
  },
  {
   "cell_type": "code",
   "execution_count": 77,
   "id": "279c9b72",
   "metadata": {},
   "outputs": [
    {
     "name": "stdout",
     "output_type": "stream",
     "text": [
      "Enter the first number: 4\n",
      "Enter the second number: 6\n",
      "What do you want to do (Enter the number)? 1.addition 2.subtraction 3. division 4. multiplication 4\n",
      "24\n"
     ]
    }
   ],
   "source": [
    "# Using the calculator class\n",
    "\n",
    "#Get the output from User\n",
    "num1 = int (input(\"Enter the first number: \"))\n",
    "num2 = int (input(\"Enter the second number: \"))\n",
    "\n",
    "cal = calculator(num1,num2)\n",
    "\n",
    "#Ask about the operation\n",
    "operation = int (input(\"What do you want to do (Enter the number)? 1.addition 2.subtraction 3. division 4. multiplication \"))\n",
    "\n",
    "if operation == 1:\n",
    "    print(cal.addition())\n",
    "elif operation == 2:\n",
    "    print(cal.subtraction())\n",
    "elif operation == 3:\n",
    "    print(cal.division())\n",
    "elif operation == 4:\n",
    "    print(cal.multiplication())\n",
    "else:\n",
    "    print(\"your requested operation is not applicable\")"
   ]
  }
 ],
 "metadata": {
  "kernelspec": {
   "display_name": "Python 3",
   "language": "python",
   "name": "python3"
  },
  "language_info": {
   "codemirror_mode": {
    "name": "ipython",
    "version": 3
   },
   "file_extension": ".py",
   "mimetype": "text/x-python",
   "name": "python",
   "nbconvert_exporter": "python",
   "pygments_lexer": "ipython3",
   "version": "3.8.8"
  }
 },
 "nbformat": 4,
 "nbformat_minor": 5
}
