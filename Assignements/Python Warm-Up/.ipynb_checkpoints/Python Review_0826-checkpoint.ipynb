{
 "cells": [
  {
   "cell_type": "markdown",
   "id": "488f26d3",
   "metadata": {},
   "source": [
    "## Type of numbers"
   ]
  },
  {
   "cell_type": "markdown",
   "id": "fca684d3",
   "metadata": {},
   "source": [
    "### There are two types of numbers in Python:\n",
    "    Integer -> whole numbers: 1,5,15,-123\n",
    "    float -> 2.45 , 1.8753, ...\n"
   ]
  },
  {
   "cell_type": "code",
   "execution_count": 5,
   "id": "d6686be4",
   "metadata": {},
   "outputs": [
    {
     "data": {
      "text/plain": [
       "float"
      ]
     },
     "execution_count": 5,
     "metadata": {},
     "output_type": "execute_result"
    }
   ],
   "source": [
    "type(2.4)"
   ]
  },
  {
   "cell_type": "code",
   "execution_count": 6,
   "id": "74d90b6b",
   "metadata": {},
   "outputs": [],
   "source": [
    "a = 2.4"
   ]
  },
  {
   "cell_type": "code",
   "execution_count": 8,
   "id": "fba0753d",
   "metadata": {},
   "outputs": [
    {
     "data": {
      "text/plain": [
       "str"
      ]
     },
     "execution_count": 8,
     "metadata": {},
     "output_type": "execute_result"
    }
   ],
   "source": [
    "# Looking into different types of variables\n",
    "a = \"Hi class!\"\n",
    "type(a)"
   ]
  },
  {
   "cell_type": "markdown",
   "id": "aec898b2",
   "metadata": {},
   "source": [
    "## Lists"
   ]
  },
  {
   "cell_type": "code",
   "execution_count": 18,
   "id": "91755ed0",
   "metadata": {},
   "outputs": [],
   "source": [
    "mylist = [4,51,1,74,12]\n",
    "mylist.sort(reverse = True)"
   ]
  },
  {
   "cell_type": "code",
   "execution_count": 17,
   "id": "3a6a91b5",
   "metadata": {},
   "outputs": [
    {
     "data": {
      "text/plain": [
       "[1, 4, 12, 51, 74]"
      ]
     },
     "execution_count": 17,
     "metadata": {},
     "output_type": "execute_result"
    }
   ],
   "source": [
    "mylist"
   ]
  },
  {
   "cell_type": "code",
   "execution_count": 9,
   "id": "ae1b93c2",
   "metadata": {},
   "outputs": [],
   "source": [
    "# Dictionaries"
   ]
  },
  {
   "cell_type": "code",
   "execution_count": 10,
   "id": "d41becbd",
   "metadata": {},
   "outputs": [],
   "source": [
    "# Series"
   ]
  },
  {
   "cell_type": "code",
   "execution_count": 11,
   "id": "538a28d7",
   "metadata": {},
   "outputs": [],
   "source": [
    "# Tuples"
   ]
  },
  {
   "cell_type": "code",
   "execution_count": null,
   "id": "fc735479",
   "metadata": {},
   "outputs": [],
   "source": []
  },
  {
   "cell_type": "markdown",
   "id": "dd27e228",
   "metadata": {},
   "source": [
    "## Functions"
   ]
  },
  {
   "cell_type": "markdown",
   "id": "1f03ba96",
   "metadata": {},
   "source": [
    "#### Define:"
   ]
  },
  {
   "cell_type": "code",
   "execution_count": 19,
   "id": "c2e192f8",
   "metadata": {},
   "outputs": [],
   "source": [
    "#define a function:\n",
    "def speak():\n",
    "    print(\"Hi!\")"
   ]
  },
  {
   "cell_type": "code",
   "execution_count": 20,
   "id": "108e95be",
   "metadata": {},
   "outputs": [
    {
     "name": "stdout",
     "output_type": "stream",
     "text": [
      "Hi!\n"
     ]
    }
   ],
   "source": [
    "# call the function:\n",
    "speak()"
   ]
  },
  {
   "cell_type": "code",
   "execution_count": 21,
   "id": "9fbad0b8",
   "metadata": {},
   "outputs": [],
   "source": [
    "#define a function that returns a value:\n",
    "def speak():\n",
    "    print(\"Hi!\")\n",
    "    return 30"
   ]
  },
  {
   "cell_type": "code",
   "execution_count": 23,
   "id": "e7c8f6d3",
   "metadata": {},
   "outputs": [
    {
     "name": "stdout",
     "output_type": "stream",
     "text": [
      "Hi!\n"
     ]
    }
   ],
   "source": [
    "a = speak()"
   ]
  },
  {
   "cell_type": "code",
   "execution_count": 24,
   "id": "313a80e4",
   "metadata": {},
   "outputs": [
    {
     "data": {
      "text/plain": [
       "30"
      ]
     },
     "execution_count": 24,
     "metadata": {},
     "output_type": "execute_result"
    }
   ],
   "source": [
    "a"
   ]
  },
  {
   "cell_type": "code",
   "execution_count": 36,
   "id": "a520ab6c",
   "metadata": {},
   "outputs": [],
   "source": [
    "# define a function that gets a value from the user and prints it:\n",
    "def printer(val):\n",
    "    '''\n",
    "    input:\n",
    "    @val (str,int,bool): the value to be printed\n",
    "    '''\n",
    "    print(val)"
   ]
  },
  {
   "cell_type": "code",
   "execution_count": null,
   "id": "4d1bb183",
   "metadata": {},
   "outputs": [],
   "source": [
    "printer()"
   ]
  },
  {
   "cell_type": "code",
   "execution_count": 26,
   "id": "79d170e1",
   "metadata": {},
   "outputs": [
    {
     "name": "stdout",
     "output_type": "stream",
     "text": [
      "Please set the parameter for the printer:This is a test message to be printed.\n"
     ]
    }
   ],
   "source": [
    "message = input(\"Please set the parameter for the printer:\")"
   ]
  },
  {
   "cell_type": "code",
   "execution_count": 27,
   "id": "879a33b0",
   "metadata": {},
   "outputs": [
    {
     "name": "stdout",
     "output_type": "stream",
     "text": [
      "This is a test message to be printed.\n"
     ]
    }
   ],
   "source": [
    "printer(val = message)"
   ]
  },
  {
   "cell_type": "code",
   "execution_count": 28,
   "id": "71e25925",
   "metadata": {},
   "outputs": [
    {
     "name": "stdout",
     "output_type": "stream",
     "text": [
      "the number is :10\n"
     ]
    }
   ],
   "source": [
    "number = 10\n",
    "print(\"the number is :{}\".format(number))"
   ]
  },
  {
   "cell_type": "code",
   "execution_count": 29,
   "id": "a98276c8",
   "metadata": {},
   "outputs": [
    {
     "name": "stdout",
     "output_type": "stream",
     "text": [
      "the number is : 10\n"
     ]
    }
   ],
   "source": [
    "print(\"the number is :\",number)"
   ]
  },
  {
   "cell_type": "code",
   "execution_count": 30,
   "id": "e7fc6a41",
   "metadata": {},
   "outputs": [
    {
     "name": "stdout",
     "output_type": "stream",
     "text": [
      "the number is :10\n"
     ]
    }
   ],
   "source": [
    "print(\"the number is :\"+str(number))"
   ]
  },
  {
   "cell_type": "code",
   "execution_count": 31,
   "id": "20d02304",
   "metadata": {},
   "outputs": [
    {
     "ename": "TypeError",
     "evalue": "can only concatenate str (not \"int\") to str",
     "output_type": "error",
     "traceback": [
      "\u001b[1;31m---------------------------------------------------------------------------\u001b[0m",
      "\u001b[1;31mTypeError\u001b[0m                                 Traceback (most recent call last)",
      "\u001b[1;32m~\\AppData\\Local\\Temp/ipykernel_17276/2454215869.py\u001b[0m in \u001b[0;36m<module>\u001b[1;34m\u001b[0m\n\u001b[1;32m----> 1\u001b[1;33m \u001b[0mprint\u001b[0m\u001b[1;33m(\u001b[0m\u001b[1;34m\"the number is :\"\u001b[0m\u001b[1;33m+\u001b[0m\u001b[0mnumber\u001b[0m\u001b[1;33m)\u001b[0m\u001b[1;33m\u001b[0m\u001b[1;33m\u001b[0m\u001b[0m\n\u001b[0m",
      "\u001b[1;31mTypeError\u001b[0m: can only concatenate str (not \"int\") to str"
     ]
    }
   ],
   "source": [
    "print(\"the number is :\"+number)"
   ]
  },
  {
   "cell_type": "code",
   "execution_count": 34,
   "id": "98c9be61",
   "metadata": {},
   "outputs": [
    {
     "data": {
      "text/plain": [
       "19"
      ]
     },
     "execution_count": 34,
     "metadata": {},
     "output_type": "execute_result"
    }
   ],
   "source": [
    "str_num = \"12\"\n",
    "b = int(str_num) + 7\n",
    "b"
   ]
  },
  {
   "cell_type": "code",
   "execution_count": 35,
   "id": "411b7c9b",
   "metadata": {
    "scrolled": true
   },
   "outputs": [
    {
     "name": "stdout",
     "output_type": "stream",
     "text": [
      "the value is 12 .\n"
     ]
    }
   ],
   "source": [
    "print(f\"the value is {str_num} .\" )"
   ]
  },
  {
   "cell_type": "markdown",
   "id": "cb1a58a1",
   "metadata": {},
   "source": [
    "## Classes and Objects\n",
    "Here we define an instance of class , which is named Dog.\n",
    "Remeber that class is atemplate for creating an object.\n",
    "Dog is an instance of class.\n",
    "\n",
    "Our Dog object has an attribute name. (defined in the second line.)\n",
    "Name can be given by an external (to Dog) value, for example by user's input. (the container to that value is the first name)\n",
    "Then we want to tie that value to the attribute of our Dog object (line 3)\n",
    "\n"
   ]
  },
  {
   "cell_type": "code",
   "execution_count": 48,
   "id": "5d2e8bab",
   "metadata": {},
   "outputs": [],
   "source": [
    "class Dog:\n",
    "    def __init__(self,name):\n",
    "        self.name = name\n",
    "    def bark(self,msg):\n",
    "        print(msg)"
   ]
  },
  {
   "cell_type": "code",
   "execution_count": 49,
   "id": "407e1bb9",
   "metadata": {},
   "outputs": [],
   "source": [
    "dog1 = Dog(\"coco\")"
   ]
  },
  {
   "cell_type": "code",
   "execution_count": 50,
   "id": "77de9efa",
   "metadata": {},
   "outputs": [
    {
     "data": {
      "text/plain": [
       "'coco'"
      ]
     },
     "execution_count": 50,
     "metadata": {},
     "output_type": "execute_result"
    }
   ],
   "source": [
    "dog1.name"
   ]
  },
  {
   "cell_type": "markdown",
   "id": "25b39fd7",
   "metadata": {},
   "source": [
    "dog1.bark(\"hi\")"
   ]
  },
  {
   "cell_type": "code",
   "execution_count": 51,
   "id": "4467d8b3",
   "metadata": {},
   "outputs": [
    {
     "name": "stdout",
     "output_type": "stream",
     "text": [
      "hello\n"
     ]
    }
   ],
   "source": [
    "dog1.bark(\"hello\")"
   ]
  },
  {
   "cell_type": "code",
   "execution_count": null,
   "id": "c74df7c4",
   "metadata": {},
   "outputs": [],
   "source": []
  }
 ],
 "metadata": {
  "kernelspec": {
   "display_name": "Python 3",
   "language": "python",
   "name": "python3"
  },
  "language_info": {
   "codemirror_mode": {
    "name": "ipython",
    "version": 3
   },
   "file_extension": ".py",
   "mimetype": "text/x-python",
   "name": "python",
   "nbconvert_exporter": "python",
   "pygments_lexer": "ipython3",
   "version": "3.8.8"
  }
 },
 "nbformat": 4,
 "nbformat_minor": 5
}
