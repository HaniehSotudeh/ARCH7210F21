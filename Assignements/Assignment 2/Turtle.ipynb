{
 "cells": [
  {
   "cell_type": "code",
   "execution_count": 1,
   "id": "d5cab078",
   "metadata": {},
   "outputs": [],
   "source": [
    "import turtle"
   ]
  },
  {
   "cell_type": "code",
   "execution_count": 2,
   "id": "cdd212f6",
   "metadata": {},
   "outputs": [],
   "source": [
    "s = turtle.getscreen()"
   ]
  },
  {
   "cell_type": "code",
   "execution_count": 3,
   "id": "20da86bb",
   "metadata": {},
   "outputs": [],
   "source": [
    "t = turtle.Turtle()"
   ]
  },
  {
   "cell_type": "code",
   "execution_count": 4,
   "id": "7579fa7e",
   "metadata": {},
   "outputs": [],
   "source": [
    "t.forward(50)"
   ]
  },
  {
   "cell_type": "code",
   "execution_count": 5,
   "id": "00c78de1",
   "metadata": {},
   "outputs": [],
   "source": [
    "t.left(90)"
   ]
  },
  {
   "cell_type": "code",
   "execution_count": 6,
   "id": "8053d72f",
   "metadata": {},
   "outputs": [],
   "source": [
    "t.forward(50)"
   ]
  },
  {
   "cell_type": "code",
   "execution_count": 7,
   "id": "be4df13f",
   "metadata": {},
   "outputs": [],
   "source": [
    "t.left(90)"
   ]
  },
  {
   "cell_type": "code",
   "execution_count": 8,
   "id": "c6a54823",
   "metadata": {},
   "outputs": [],
   "source": [
    "t.forward(50)"
   ]
  },
  {
   "cell_type": "code",
   "execution_count": 9,
   "id": "eafe17e8",
   "metadata": {},
   "outputs": [],
   "source": [
    "t.left(90)"
   ]
  },
  {
   "cell_type": "code",
   "execution_count": 10,
   "id": "5a2b8ba5",
   "metadata": {},
   "outputs": [],
   "source": [
    "t.forward(50)"
   ]
  },
  {
   "cell_type": "code",
   "execution_count": 11,
   "id": "1cd82de2",
   "metadata": {},
   "outputs": [],
   "source": [
    "t.clear()"
   ]
  },
  {
   "cell_type": "code",
   "execution_count": 12,
   "id": "a88a4024",
   "metadata": {},
   "outputs": [],
   "source": [
    "t.penup()"
   ]
  },
  {
   "cell_type": "code",
   "execution_count": 13,
   "id": "25e5ceba",
   "metadata": {},
   "outputs": [],
   "source": [
    "t.home()"
   ]
  },
  {
   "cell_type": "code",
   "execution_count": 14,
   "id": "fe32812d",
   "metadata": {},
   "outputs": [],
   "source": [
    "t.pendown()"
   ]
  },
  {
   "cell_type": "code",
   "execution_count": 15,
   "id": "43f3f98f",
   "metadata": {},
   "outputs": [],
   "source": [
    "# define a function that draws a square at Origin\n",
    "def square(width):\n",
    "    #the loop that draws each side of the square\n",
    "    for i in range(4):\n",
    "        t.fd(width)\n",
    "        t.left(90)\n",
    "    return True"
   ]
  },
  {
   "cell_type": "code",
   "execution_count": 16,
   "id": "df70a919",
   "metadata": {},
   "outputs": [
    {
     "data": {
      "text/plain": [
       "True"
      ]
     },
     "execution_count": 16,
     "metadata": {},
     "output_type": "execute_result"
    }
   ],
   "source": [
    "# call the function to actually draw the square\n",
    "square(100)"
   ]
  },
  {
   "cell_type": "code",
   "execution_count": 17,
   "id": "734fba06",
   "metadata": {},
   "outputs": [],
   "source": [
    "# define a function that draws a square at Origin\n",
    "def FilledSquare(width,color):\n",
    "    #the loop that draws each side of the square\n",
    "    t.fillcolor(color)\n",
    "    t.begin_fill()\n",
    "    for i in range(4):\n",
    "        t.fd(width)\n",
    "        t.left(90)\n",
    "    t.end_fill()\n",
    "    return True"
   ]
  },
  {
   "cell_type": "code",
   "execution_count": 18,
   "id": "b7b488c9",
   "metadata": {},
   "outputs": [],
   "source": [
    "t.clear()"
   ]
  },
  {
   "cell_type": "code",
   "execution_count": 22,
   "id": "9cec26c3",
   "metadata": {},
   "outputs": [
    {
     "data": {
      "text/plain": [
       "True"
      ]
     },
     "execution_count": 22,
     "metadata": {},
     "output_type": "execute_result"
    }
   ],
   "source": [
    "FilledSquare(60,\"gray\")"
   ]
  },
  {
   "cell_type": "code",
   "execution_count": 27,
   "id": "17ba116f",
   "metadata": {},
   "outputs": [],
   "source": [
    "# create a pattern based on the square\n",
    "''' Algorithm:\n",
    "1- Start from origin\n",
    "2- create a square\n",
    "3- pen up\n",
    "4- move to the next point\n",
    "5- repeat from #2\n",
    "'''\n",
    "def squarePattern(size,num_h):\n",
    "    t.penup() # make sure we do not draw on canvas\n",
    "    t.home() # Go back to origin\n",
    "    for i in range(num_h):   # range contains the start but not the end of the range value   \n",
    "        t.pendown() # put the pen on canvas-strat drawing\n",
    "        FilledSquare(size,\"red\")\n",
    "        t.penup()\n",
    "        t.fd(size)\n",
    "    return True"
   ]
  },
  {
   "cell_type": "code",
   "execution_count": 28,
   "id": "34689bed",
   "metadata": {},
   "outputs": [
    {
     "data": {
      "text/plain": [
       "True"
      ]
     },
     "execution_count": 28,
     "metadata": {},
     "output_type": "execute_result"
    }
   ],
   "source": [
    "t.clear()\n",
    "squarePattern(30,5)"
   ]
  },
  {
   "cell_type": "code",
   "execution_count": 39,
   "id": "5bf416eb",
   "metadata": {},
   "outputs": [],
   "source": [
    "# create a pattern based on the square\n",
    "''' Algorithm:\n",
    "1- Start from origin\n",
    "2- Check if the number of columns is met:\n",
    "if No:\n",
    "    3- begin the first column\n",
    "    4- check if the number of squares in each row is met\n",
    "    if 4 is false:\n",
    "    5- begin the first row\n",
    "        6- create a square\n",
    "        7- pen up\n",
    "        8- move to the next point\n",
    "    else break ==> break out of the inner loop which takes care of the rows\n",
    "    9- repeat from #4\n",
    "'''\n",
    "def gridPattern(size,num_c,num_r):\n",
    "    t.penup() # make sure we do not draw on canvas\n",
    "    t.home() # Go back to origin\n",
    "    trigger = 0\n",
    "    # the columns loop:\n",
    "    while trigger < num_c: # when using while, we check the condition each time the loop is being compiled\n",
    "        # for i in range(num_c):\n",
    "        for i in range(num_r):   # range contains the start but not the end of the range value   \n",
    "            t.pendown() # put the pen on canvas-strat drawing\n",
    "            FilledSquare(size,\"red\")\n",
    "            t.penup()\n",
    "            t.fd(size)\n",
    "        t.penup()\n",
    "        t.home()\n",
    "        trigger += 1 # trigger = trigger + 1\n",
    "        t.goto(0, trigger * size)\n",
    "    return True"
   ]
  },
  {
   "cell_type": "code",
   "execution_count": 42,
   "id": "de1fd26d",
   "metadata": {},
   "outputs": [
    {
     "name": "stdout",
     "output_type": "stream",
     "text": [
      "Pelase define the size of each square: 20\n",
      "Pelase define the # of rows: 3\n",
      "Pelase define the # of columns: 2\n"
     ]
    },
    {
     "data": {
      "text/plain": [
       "True"
      ]
     },
     "execution_count": 42,
     "metadata": {},
     "output_type": "execute_result"
    }
   ],
   "source": [
    "t.clear()\n",
    "size = int(input(\"Pelase define the size of each square: \"))\n",
    "n_rows = int(input(\"Pelase define the # of rows: \"))\n",
    "n_columns = int(input(\"Pelase define the # of columns: \"))\n",
    "\n",
    "gridPattern(size,n_columns,n_rows)"
   ]
  },
  {
   "cell_type": "markdown",
   "id": "8119947f",
   "metadata": {},
   "source": [
    "''' Algorithm:\n",
    "1- Start from origin\n",
    "2- Check if the number of columns is met:\n",
    "if No:\n",
    "    3- begin the first column\n",
    "    4- check if the number of squares in each row is met\n",
    "    if 4 is false:\n",
    "    5- begin the first row\n",
    "        6- create a square\n",
    "        7- pen up\n",
    "        8- move to the next point\n",
    "    else break ==> break out of the inner loop which takes care of the rows\n",
    "    9- repeat from #4"
   ]
  },
  {
   "cell_type": "code",
   "execution_count": null,
   "id": "f539e50c",
   "metadata": {},
   "outputs": [],
   "source": []
  }
 ],
 "metadata": {
  "kernelspec": {
   "display_name": "Python 3",
   "language": "python",
   "name": "python3"
  },
  "language_info": {
   "codemirror_mode": {
    "name": "ipython",
    "version": 3
   },
   "file_extension": ".py",
   "mimetype": "text/x-python",
   "name": "python",
   "nbconvert_exporter": "python",
   "pygments_lexer": "ipython3",
   "version": "3.8.8"
  }
 },
 "nbformat": 4,
 "nbformat_minor": 5
}
