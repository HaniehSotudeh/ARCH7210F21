{
 "cells": [
  {
   "cell_type": "markdown",
   "id": "8c2741f6",
   "metadata": {},
   "source": [
    "## Assignement 02"
   ]
  },
  {
   "cell_type": "code",
   "execution_count": 3,
   "id": "3a67ea60",
   "metadata": {},
   "outputs": [],
   "source": [
    "import turtle\n",
    "t = turtle.Turtle()\n",
    "s = t.getscreen()"
   ]
  },
  {
   "cell_type": "code",
   "execution_count": 11,
   "id": "3c39b04c",
   "metadata": {},
   "outputs": [],
   "source": [
    "import random\n",
    "import math \n",
    "# Set the screen to black\n",
    "t.screen.bgcolor('black')"
   ]
  },
  {
   "cell_type": "markdown",
   "id": "f06ef6d2",
   "metadata": {},
   "source": [
    "### Pattern 1"
   ]
  },
  {
   "cell_type": "markdown",
   "id": "169d5023",
   "metadata": {},
   "source": [
    "'''\n",
    "\n",
    "Algorithm:\n",
    "1. Clear the screen\n",
    "2. Start from the origin\n",
    "3. Create polygone drawing function\n",
    "4. Get user input for size and number of polygon's slides\n",
    "\n",
    "5. Get user input for rotating method\n",
    "6. Check if the input number is in the list of existing methods\n",
    "\n",
    "    7.If yes\n",
    "        8.Draw the pattern\n",
    "            9. If rotation is from center: \n",
    "                10. Home\n",
    "                11. Penup\n",
    "                12. Rotate turtle\n",
    "                13. Pendown\n",
    "                14. Draw polygon\n",
    "                15. Scale the previous shape for the new one\n",
    "                16. Repeat 10-15 until all of shapes are created\n",
    "            17. If rotation is from edge\n",
    "                18. Draw polygon\n",
    "                19. Scale the previous shape for the new one\n",
    "                20. Rotate the turtle\n",
    "                21. Repeat 18-20 until all of shapes are created\n",
    "    22.If not \n",
    "        23.print: this methode doesn't exist\n",
    "\n",
    "'''"
   ]
  },
  {
   "cell_type": "code",
   "execution_count": 5,
   "id": "ee1d5dd0",
   "metadata": {},
   "outputs": [],
   "source": [
    "# This definition rotates different scaled shapes form center and edge\n",
    "def RotatedSacalingShape():\n",
    "    #Clear the screen\n",
    "    t.clear()\n",
    "    #Bring turtle to start point\n",
    "    t.home()\n",
    "\n",
    "    #This definition creats polygons\n",
    "    def polygon(size, slide):\n",
    "        # for loop to draw each side\n",
    "        for i in range(slide):\n",
    "            #Set colors\n",
    "            red = math.sin((i* math.pi)/(2*slide))\n",
    "            green = math.cos((i* math.pi)/(2*slide))\n",
    "            blue = 1- red\n",
    "            # Assign the colors to pen\n",
    "            t.pencolor(red,green,blue)\n",
    "            # draw the shape\n",
    "            t.fd(size)\n",
    "            t.left(180-((slide-2)*180/slide))\n",
    "\n",
    "    \n",
    "    #Get polygon's slides number from user\n",
    "    slide = int(input(\"write number of slides: \"))\n",
    "    #Get polygon's slides' size from user\n",
    "    size = int(input(\"write size of each slides: \"))\n",
    "    #Get number of polygons from user\n",
    "    number = int(input(\"write the number of elements you want to have: \"))\n",
    "    #Ask about method of rotation from user\n",
    "    method = int(input('''write the method of rotation:\n",
    "    1. from edge\n",
    "    2. from center\n",
    "    '''))\n",
    "    #Set sclaing size\n",
    "    scale = 1.1\n",
    "    \n",
    "    # Check if method exist\n",
    "    # If yes, then assign the algorithem for each method\n",
    "    if method == 1:\n",
    "        # Draw polygons in a  \"for loop\"\n",
    "        for i in range(number):\n",
    "            # Scale the size of each polygon\n",
    "            scaledSize = size * math.pow(scale, i)\n",
    "            # Draw the polygon\n",
    "            shape = polygon(scaledSize, slide)\n",
    "            # Rotate the turtle\n",
    "            t.right((360/(number-1)))\n",
    "    elif method ==2:\n",
    "        # Draw polygons in a  \"for loop\"\n",
    "        for i in range(number):\n",
    "            # Scale the size of each polygon\n",
    "            scaledSize = size* math.pow(scale, i)\n",
    "            # PenUp\n",
    "            t.penup()\n",
    "            # Move the turtle to the home which is the polygon's center\n",
    "            t.home()\n",
    "            # Rotate the turtle \n",
    "            t.right(90+(360/(slide*2)) + (i*(360/(number-1))))\n",
    "            # Move the turtle at the start point of drawing\n",
    "            t.fd(scaledSize/(2*(math.sin((180/slide)*math.pi/180))))\n",
    "            # Rotate the turtle backward to start drawing\n",
    "            t.left(90+(360/(slide*2)))\n",
    "            # PenDown\n",
    "            t.pendown()\n",
    "            # Draw the shape\n",
    "            shape = polygon(scaledSize, slide)\n",
    "            \n",
    "    # If not, print the error\n",
    "    else:\n",
    "        print(\"this methode doesn't exist\")"
   ]
  },
  {
   "cell_type": "code",
   "execution_count": 14,
   "id": "c24d45da",
   "metadata": {
    "scrolled": true
   },
   "outputs": [
    {
     "name": "stdout",
     "output_type": "stream",
     "text": [
      "write number of slides: 3\n",
      "write size of each slides: 20\n",
      "write the number of elements you want to have: 25\n",
      "write the method of rotation:\n",
      "    1. from edge\n",
      "    2. from center\n",
      "    1\n"
     ]
    }
   ],
   "source": [
    "#Test the function\n",
    "RotatedSacalingShape()"
   ]
  },
  {
   "cell_type": "markdown",
   "id": "9e4dd48f",
   "metadata": {},
   "source": [
    "### Pattern 2"
   ]
  },
  {
   "cell_type": "markdown",
   "id": "a0553c4b",
   "metadata": {},
   "source": [
    "'''\n",
    "\n",
    "Algorithm:\n",
    "1. Clear the screen\n",
    "2. Start from the origin\n",
    "3. Get user input for size and number of segments and number of subsegments.\n",
    "4. Create the pattern\n",
    "    \n",
    "    5.Draw the segment\n",
    "        6.move the turtle for the size of segment\n",
    "        7.back home\n",
    "    8.Draw the subsegments\n",
    "        9. Set pen color\n",
    "        10. Get first segments' subsegment coordination\n",
    "        11. Get second segment's subsegment coordiantion\n",
    "        12. Pen Up\n",
    "        13. Set pen in the first coordination\n",
    "        14. Pen Down\n",
    "        15. Draw to the second coordination\n",
    "        16.Repeat 9-15 untill all of the subsegments are drawn\n",
    "    17.Repeat 5-8 untill all of the segments are drawn\n",
    "    \n",
    "\n",
    "'''"
   ]
  },
  {
   "cell_type": "code",
   "execution_count": 15,
   "id": "3ed5c711",
   "metadata": {},
   "outputs": [],
   "source": [
    "# This defenition draw lines between polygon's diameter\n",
    "def reversListLine():\n",
    "    #clear the screen\n",
    "    t.clear()\n",
    "    # set turtle at home\n",
    "    t.home()\n",
    "    # Get user input for size, number of segments and subsegments\n",
    "    size = int(input(\"write the size of segment: \"))\n",
    "    num = int(input(\"write the number of segments: \"))\n",
    "    subNum = int(input(\"write the number of subSegments: \"))\n",
    "    # Draw segments\n",
    "    for i in range(num):\n",
    "        t.fd(size)\n",
    "        t.right(180)\n",
    "        # Back to home position\n",
    "        t.home()\n",
    "        # Draw lines between subsegments\n",
    "        for j in range(subNum): \n",
    "            #Set colors\n",
    "            red = math.sin((j* math.pi)/(2 * subNum))\n",
    "            green = math.cos((j* math.pi)/(2 * subNum))\n",
    "            blue = 1- red\n",
    "            # Assign the colors to pen\n",
    "            t.pencolor(red,green,blue)\n",
    "            # Set fist segment coordination\n",
    "            subSize0 = (size / subNum) * (j+1)\n",
    "            x0 = subSize0 * math.cos (((i) * 360/num)*math.pi/180)\n",
    "            y0 = subSize0 * math.sin (((i) * 360/num)*math.pi/180)\n",
    "            # Set second segment coordination\n",
    "            subSize1 = size - (size / subNum) * (j+1)\n",
    "            x1 = subSize1 * math.cos (((i+1) *360/num)*math.pi/180)\n",
    "            y1 = subSize1 * math.sin (((i+1) *360/num)*math.pi/180)\n",
    "            # Pen Up\n",
    "            t.penup()\n",
    "            # Set oriantation to east\n",
    "            t.seth(0)\n",
    "            # Set turtle at first point\n",
    "            t.setpos(x0,y0)\n",
    "            # Pen Down\n",
    "            t.pendown()\n",
    "            # Navigate turtle to second segment\n",
    "            t.goto(x1,y1)\n",
    "        # Set turtle's oriantation to draw next segment\n",
    "        t.seth((360/num)* (i +1))\n"
   ]
  },
  {
   "cell_type": "code",
   "execution_count": 18,
   "id": "a2838c28",
   "metadata": {},
   "outputs": [
    {
     "name": "stdout",
     "output_type": "stream",
     "text": [
      "write the size of segment: 200\n",
      "write the number of segments: 7\n",
      "write the number of subSegments: 20\n"
     ]
    }
   ],
   "source": [
    "#Test the function\n",
    "t.home()\n",
    "reversListLine()"
   ]
  },
  {
   "cell_type": "markdown",
   "id": "78c842cd",
   "metadata": {},
   "source": [
    "### Pattern 3"
   ]
  },
  {
   "cell_type": "markdown",
   "id": "b8fa66ec",
   "metadata": {},
   "source": [
    "'''\n",
    "\n",
    "Algorithm:\n",
    "1. Clear the screen\n",
    "2. Start from the origin\n",
    "3. Create polygone drawing function\n",
    "4. Get user input for number and size of slides, distance between shapes and number of row and columns\n",
    "5. Create the pattern\n",
    "   \n",
    "   6.Draw columns\n",
    "        7.draw polygon in row\n",
    "            8. change pen color \n",
    "            9. set turtle to the center of polygon\n",
    "            10. draw first polygon\n",
    "            11. rotate turtle 10 degree\n",
    "        12.repeat 8-10 untill row completes\n",
    "    13.repeat 10 untill all of the columns complete\n",
    "    \n",
    "'''"
   ]
  },
  {
   "cell_type": "code",
   "execution_count": 19,
   "id": "1eb47ac8",
   "metadata": {},
   "outputs": [],
   "source": [
    "# This function creats a grid of rotated shapes \n",
    "def rotetedGrid():\n",
    "    # Clear the screen\n",
    "    t.clear()\n",
    "    # Set turtle at home\n",
    "    t.home()\n",
    "    #Get polygon's slides number from user\n",
    "    slide = int(input(\"write number of slides: \"))\n",
    "    #Get polygon's slides' size from user\n",
    "    size = int(input(\"write size of each slides: \"))\n",
    "    #Get number of rows from user\n",
    "    row = int(input(\"write number of rows: \"))\n",
    "    #Get number of columns from user\n",
    "    column = int(input(\"write number of columns: \"))\n",
    "    #Get distance between the origin of two shape\n",
    "    CenterDist = float(input(\"write the distance between center of shapes: \"))\n",
    "    \n",
    "    # This function creats the polygonal shapes\n",
    "    def polygon(size, slide):\n",
    "        # for loop to draw each side\n",
    "        for i in range(slide):\n",
    "            # draw the shape\n",
    "            t.fd(size)\n",
    "            t.left(180-((slide-2)*180/slide))\n",
    "    \n",
    "    for i in range(row):\n",
    "        for j in range(column):\n",
    "            #Set colors\n",
    "            red = math.sin(((i+2) * (j+2)* math.pi)/(2* row* column))\n",
    "            green = 1- red\n",
    "            blue = 1- green\n",
    "            # Assign the colors to pen\n",
    "            t.pencolor(red,green,blue)\n",
    "            # Pen Up\n",
    "            t.penup()\n",
    "            # Set turtle at the center of each polygon\n",
    "            t.setpos(j * CenterDist, i * CenterDist)\n",
    "            # Rotate the turtle to draw the polygon\n",
    "            t.right(90+(360/(slide*2)))\n",
    "            # Move the turtle at the start point of drawing\n",
    "            t.fd(size/(2*(math.sin((180/slide)*math.pi/180))))\n",
    "            # Rotate the turtle backward to start drawing\n",
    "            t.left(90+(360/(slide*2)))\n",
    "            # Pen Down\n",
    "            t.pendown()\n",
    "            # Draw the polygon\n",
    "            polygon(size, slide)\n",
    "            # Rotate 10 degree for the next roation\n",
    "            t.right(10)\n",
    "            "
   ]
  },
  {
   "cell_type": "code",
   "execution_count": 21,
   "id": "3e0e0652",
   "metadata": {},
   "outputs": [
    {
     "name": "stdout",
     "output_type": "stream",
     "text": [
      "write number of slides: 4\n",
      "write size of each slides: 20\n",
      "write number of rows: 5\n",
      "write number of columns: 8\n",
      "write the distance between center of shapes: 25\n"
     ]
    }
   ],
   "source": [
    "#Test the function\n",
    "t.home()\n",
    "rotetedGrid()"
   ]
  },
  {
   "cell_type": "markdown",
   "id": "21cedef9",
   "metadata": {},
   "source": [
    "### Pattern 4"
   ]
  },
  {
   "cell_type": "markdown",
   "id": "98210bf3",
   "metadata": {},
   "source": [
    "'''\n",
    "\n",
    "Algorithm:\n",
    "1. Clear the screen\n",
    "2. Start from the origin\n",
    "3. Get user input for the number of first row segments and their size\n",
    "4. Get random number for the number of branches\n",
    "5. Draw the segment\n",
    "        6.move the turtle for the size of segment\n",
    "        7.Draw the second row\n",
    "            8.adjust orientation\n",
    "            9.draw subsegments\n",
    "            10.Back home\n",
    "        11. repeat 8-10 untill all of the subsegments are complete\n",
    "    12.repeat 5-7 untill all of the segments are compelet\n",
    "    \n",
    "'''"
   ]
  },
  {
   "cell_type": "code",
   "execution_count": 26,
   "id": "d953b681",
   "metadata": {},
   "outputs": [],
   "source": [
    "# This function creates a circular branches\n",
    "def CirBranch():\n",
    "    # Clear the screen\n",
    "    t.clear()\n",
    "    # Set turtle at home\n",
    "    t.home()\n",
    "    # Get user input for the number of first segments, their size\n",
    "    num = int(input(\"write the number of segments: \"))\n",
    "    size = int(input(\"write the size of segments: \"))\n",
    "    # Get random number for branches\n",
    "    branch = random.randrange(1,10)\n",
    "    # Draw first segments\n",
    "    for i in range(num):\n",
    "        t.fd(size)\n",
    "        # draw branches\n",
    "        for j in range(branch):\n",
    "            # set the turtle's orientation\n",
    "            t.seth((360/num) * (i))\n",
    "            # rotate the turtle to the start point of subsegment\n",
    "            t.right(360/(2* num))\n",
    "            # adjust the orientation for the next drawings\n",
    "            t.left(j * 360/(num* branch) )\n",
    "            # draw the subsegment\n",
    "            t.fd(size)\n",
    "            # Back to the start point\n",
    "            t.bk(size)\n",
    "        # Pen Up\n",
    "        t.penup()\n",
    "        # Back to home position\n",
    "        t.home()\n",
    "        # Set turtle's orientation to draw the next segment\n",
    "        t.seth((360/num) * (i+1))\n",
    "        # Pen Down\n",
    "        t.pendown()\n",
    "    "
   ]
  },
  {
   "cell_type": "code",
   "execution_count": 30,
   "id": "f0e341e8",
   "metadata": {
    "scrolled": true
   },
   "outputs": [
    {
     "name": "stdout",
     "output_type": "stream",
     "text": [
      "write the number of segments: 40\n",
      "write the size of segments: 60\n"
     ]
    }
   ],
   "source": [
    "#Test the function\n",
    "t.home()\n",
    "CirBranch()"
   ]
  },
  {
   "cell_type": "markdown",
   "id": "377199a1",
   "metadata": {},
   "source": [
    "### Pattern 5"
   ]
  },
  {
   "cell_type": "markdown",
   "id": "a5f4c129",
   "metadata": {},
   "source": [
    "'''\n",
    "\n",
    "Algorithm:\n",
    "1. Clear the screen\n",
    "2. Start from the origin\n",
    "3. define a range from 1 to 180(the rotation angle for turtle to draw a line)\n",
    "\n",
    "    4.draw and rotate for each number in the range\n",
    "    \n",
    "    5.repeat 3 untill all of the numbers in the range are completed\n",
    "    \n",
    "'''"
   ]
  },
  {
   "cell_type": "code",
   "execution_count": 24,
   "id": "7f53face",
   "metadata": {},
   "outputs": [],
   "source": [
    "# This function is pattern that starts by drawing a circle and turns into line \n",
    "def CircleToLine():\n",
    "    # Clear the screen\n",
    "    t.clear()\n",
    "    # Set turtle at home\n",
    "    t.home()\n",
    "    # set pen color to white\n",
    "    t.pencolor('white')\n",
    "    for i in range(180):\n",
    "        t.fd(i)\n",
    "        t.right(i)"
   ]
  },
  {
   "cell_type": "code",
   "execution_count": 25,
   "id": "10aff616",
   "metadata": {
    "scrolled": true
   },
   "outputs": [],
   "source": [
    "#Test the function\n",
    "t.home()\n",
    "CircleToLine()"
   ]
  },
  {
   "cell_type": "code",
   "execution_count": null,
   "id": "f61e8aa0",
   "metadata": {},
   "outputs": [],
   "source": []
  }
 ],
 "metadata": {
  "kernelspec": {
   "display_name": "Python 3",
   "language": "python",
   "name": "python3"
  },
  "language_info": {
   "codemirror_mode": {
    "name": "ipython",
    "version": 3
   },
   "file_extension": ".py",
   "mimetype": "text/x-python",
   "name": "python",
   "nbconvert_exporter": "python",
   "pygments_lexer": "ipython3",
   "version": "3.8.8"
  }
 },
 "nbformat": 4,
 "nbformat_minor": 5
}
